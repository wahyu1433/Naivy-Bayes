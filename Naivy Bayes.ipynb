{
 "cells": [
  {
   "cell_type": "code",
   "execution_count": 1,
   "id": "94de3e53",
   "metadata": {},
   "outputs": [],
   "source": [
    "import numpy as mp\n",
    "import pandas as pd\n",
    "import matplotlib.pyplot as plt"
   ]
  },
  {
   "cell_type": "code",
   "execution_count": 10,
   "id": "e4d8bed8",
   "metadata": {},
   "outputs": [],
   "source": [
    "data = pd.read_excel('L:/shoping_demo.xls')"
   ]
  },
  {
   "cell_type": "code",
   "execution_count": 11,
   "id": "f0f6aa71",
   "metadata": {},
   "outputs": [
    {
     "data": {
      "text/html": [
       "<div>\n",
       "<style scoped>\n",
       "    .dataframe tbody tr th:only-of-type {\n",
       "        vertical-align: middle;\n",
       "    }\n",
       "\n",
       "    .dataframe tbody tr th {\n",
       "        vertical-align: top;\n",
       "    }\n",
       "\n",
       "    .dataframe thead th {\n",
       "        text-align: right;\n",
       "    }\n",
       "</style>\n",
       "<table border=\"1\" class=\"dataframe\">\n",
       "  <thead>\n",
       "    <tr style=\"text-align: right;\">\n",
       "      <th></th>\n",
       "      <th>Day</th>\n",
       "      <th>Discount</th>\n",
       "      <th>Free Delivery</th>\n",
       "      <th>Purchase</th>\n",
       "      <th>Unnamed: 4</th>\n",
       "      <th>Unnamed: 5</th>\n",
       "      <th>Unnamed: 6</th>\n",
       "    </tr>\n",
       "  </thead>\n",
       "  <tbody>\n",
       "    <tr>\n",
       "      <th>0</th>\n",
       "      <td>Weekday</td>\n",
       "      <td>Yes</td>\n",
       "      <td>Yes</td>\n",
       "      <td>Yes</td>\n",
       "      <td>YesYes</td>\n",
       "      <td>WeekdayYes</td>\n",
       "      <td>YesYes</td>\n",
       "    </tr>\n",
       "    <tr>\n",
       "      <th>1</th>\n",
       "      <td>Weekday</td>\n",
       "      <td>Yes</td>\n",
       "      <td>Yes</td>\n",
       "      <td>Yes</td>\n",
       "      <td>YesYes</td>\n",
       "      <td>WeekdayYes</td>\n",
       "      <td>YesYes</td>\n",
       "    </tr>\n",
       "    <tr>\n",
       "      <th>2</th>\n",
       "      <td>Weekend</td>\n",
       "      <td>No</td>\n",
       "      <td>No</td>\n",
       "      <td>No</td>\n",
       "      <td>NoNo</td>\n",
       "      <td>WeekendNo</td>\n",
       "      <td>NoNo</td>\n",
       "    </tr>\n",
       "    <tr>\n",
       "      <th>3</th>\n",
       "      <td>Holiday</td>\n",
       "      <td>Yes</td>\n",
       "      <td>Yes</td>\n",
       "      <td>Yes</td>\n",
       "      <td>YesYes</td>\n",
       "      <td>HolidayYes</td>\n",
       "      <td>YesYes</td>\n",
       "    </tr>\n",
       "    <tr>\n",
       "      <th>4</th>\n",
       "      <td>Weekday</td>\n",
       "      <td>Yes</td>\n",
       "      <td>Yes</td>\n",
       "      <td>Yes</td>\n",
       "      <td>YesYes</td>\n",
       "      <td>WeekdayYes</td>\n",
       "      <td>YesYes</td>\n",
       "    </tr>\n",
       "  </tbody>\n",
       "</table>\n",
       "</div>"
      ],
      "text/plain": [
       "       Day Discount Free Delivery Purchase Unnamed: 4  Unnamed: 5 Unnamed: 6\n",
       "0  Weekday      Yes           Yes      Yes     YesYes  WeekdayYes     YesYes\n",
       "1  Weekday      Yes           Yes      Yes     YesYes  WeekdayYes     YesYes\n",
       "2  Weekend       No            No       No       NoNo   WeekendNo       NoNo\n",
       "3  Holiday      Yes           Yes      Yes     YesYes  HolidayYes     YesYes\n",
       "4  Weekday      Yes           Yes      Yes     YesYes  WeekdayYes     YesYes"
      ]
     },
     "execution_count": 11,
     "metadata": {},
     "output_type": "execute_result"
    }
   ],
   "source": [
    "data.head()"
   ]
  },
  {
   "cell_type": "code",
   "execution_count": 12,
   "id": "d9bb1f63",
   "metadata": {},
   "outputs": [
    {
     "data": {
      "text/plain": [
       "(30, 7)"
      ]
     },
     "execution_count": 12,
     "metadata": {},
     "output_type": "execute_result"
    }
   ],
   "source": [
    "data.shape"
   ]
  },
  {
   "cell_type": "code",
   "execution_count": 14,
   "id": "4c0997f7",
   "metadata": {},
   "outputs": [
    {
     "data": {
      "text/plain": [
       "Yes    24\n",
       "No      6\n",
       "Name: Purchase, dtype: int64"
      ]
     },
     "execution_count": 14,
     "metadata": {},
     "output_type": "execute_result"
    }
   ],
   "source": [
    "data['Purchase'].value_counts()"
   ]
  },
  {
   "cell_type": "code",
   "execution_count": 15,
   "id": "af90da69",
   "metadata": {},
   "outputs": [],
   "source": [
    "pYes = 24/30\n",
    "pNo = 6/30"
   ]
  },
  {
   "cell_type": "code",
   "execution_count": 16,
   "id": "aea911c3",
   "metadata": {},
   "outputs": [
    {
     "name": "stdout",
     "output_type": "stream",
     "text": [
      "0.8\n"
     ]
    }
   ],
   "source": [
    "print(pYes)"
   ]
  },
  {
   "cell_type": "code",
   "execution_count": 17,
   "id": "20eaee70",
   "metadata": {},
   "outputs": [
    {
     "name": "stdout",
     "output_type": "stream",
     "text": [
      "0.2\n"
     ]
    }
   ],
   "source": [
    "print(pNo)"
   ]
  },
  {
   "cell_type": "code",
   "execution_count": 18,
   "id": "639e2b93",
   "metadata": {},
   "outputs": [
    {
     "data": {
      "text/html": [
       "<div>\n",
       "<style scoped>\n",
       "    .dataframe tbody tr th:only-of-type {\n",
       "        vertical-align: middle;\n",
       "    }\n",
       "\n",
       "    .dataframe tbody tr th {\n",
       "        vertical-align: top;\n",
       "    }\n",
       "\n",
       "    .dataframe thead th {\n",
       "        text-align: right;\n",
       "    }\n",
       "</style>\n",
       "<table border=\"1\" class=\"dataframe\">\n",
       "  <thead>\n",
       "    <tr style=\"text-align: right;\">\n",
       "      <th>Purchase</th>\n",
       "      <th>No</th>\n",
       "      <th>Yes</th>\n",
       "    </tr>\n",
       "    <tr>\n",
       "      <th>Day</th>\n",
       "      <th></th>\n",
       "      <th></th>\n",
       "    </tr>\n",
       "  </thead>\n",
       "  <tbody>\n",
       "    <tr>\n",
       "      <th>Holiday</th>\n",
       "      <td>3</td>\n",
       "      <td>8</td>\n",
       "    </tr>\n",
       "    <tr>\n",
       "      <th>Weekday</th>\n",
       "      <td>2</td>\n",
       "      <td>9</td>\n",
       "    </tr>\n",
       "    <tr>\n",
       "      <th>Weekend</th>\n",
       "      <td>1</td>\n",
       "      <td>7</td>\n",
       "    </tr>\n",
       "  </tbody>\n",
       "</table>\n",
       "</div>"
      ],
      "text/plain": [
       "Purchase  No  Yes\n",
       "Day              \n",
       "Holiday    3    8\n",
       "Weekday    2    9\n",
       "Weekend    1    7"
      ]
     },
     "execution_count": 18,
     "metadata": {},
     "output_type": "execute_result"
    }
   ],
   "source": [
    "pd.crosstab(data['Day'], data['Purchase'])"
   ]
  },
  {
   "cell_type": "code",
   "execution_count": 19,
   "id": "bda3b387",
   "metadata": {},
   "outputs": [
    {
     "name": "stdout",
     "output_type": "stream",
     "text": [
      "0.375\n"
     ]
    }
   ],
   "source": [
    "PHolidayNo = 3/6\n",
    "PWeekdayNo = 2/6\n",
    "PWeekendNo = 1/6\n",
    "\n",
    "PHolidayYes = 8/24\n",
    "PWeekdayYes = 9/24\n",
    "PWeekendYes = 7/24\n",
    "\n",
    "PHoliday = 11/30\n",
    "PWeekday = 11/30\n",
    "PWeekend = 8/30\n",
    "\n",
    "print(PWeekdayYes)"
   ]
  },
  {
   "cell_type": "code",
   "execution_count": 23,
   "id": "0e07afe5",
   "metadata": {},
   "outputs": [
    {
     "name": "stdout",
     "output_type": "stream",
     "text": [
      "0.18181818181818182\n"
     ]
    }
   ],
   "source": [
    "PNoWeekday = (PWeekdayNo*pNo)/PWeekday\n",
    "print(PNoWeekday)"
   ]
  },
  {
   "cell_type": "code",
   "execution_count": 25,
   "id": "1608c225",
   "metadata": {},
   "outputs": [
    {
     "name": "stdout",
     "output_type": "stream",
     "text": [
      "0.8181818181818183\n"
     ]
    }
   ],
   "source": [
    "PYesWeekday = (PWeekdayYes*pYes)/PWeekday\n",
    "print(PYesWeekday)"
   ]
  },
  {
   "cell_type": "code",
   "execution_count": 26,
   "id": "900a72bf",
   "metadata": {},
   "outputs": [
    {
     "name": "stdout",
     "output_type": "stream",
     "text": [
      "0.18181818181818182\n",
      "0.8181818181818183\n"
     ]
    }
   ],
   "source": [
    "print(PNoWeekday)\n",
    "print(PYesWeekday)"
   ]
  },
  {
   "cell_type": "code",
   "execution_count": 27,
   "id": "eb6ad5c6",
   "metadata": {},
   "outputs": [
    {
     "data": {
      "text/html": [
       "<div>\n",
       "<style scoped>\n",
       "    .dataframe tbody tr th:only-of-type {\n",
       "        vertical-align: middle;\n",
       "    }\n",
       "\n",
       "    .dataframe tbody tr th {\n",
       "        vertical-align: top;\n",
       "    }\n",
       "\n",
       "    .dataframe thead th {\n",
       "        text-align: right;\n",
       "    }\n",
       "</style>\n",
       "<table border=\"1\" class=\"dataframe\">\n",
       "  <thead>\n",
       "    <tr style=\"text-align: right;\">\n",
       "      <th>Purchase</th>\n",
       "      <th>No</th>\n",
       "      <th>Yes</th>\n",
       "    </tr>\n",
       "    <tr>\n",
       "      <th>Discount</th>\n",
       "      <th></th>\n",
       "      <th></th>\n",
       "    </tr>\n",
       "  </thead>\n",
       "  <tbody>\n",
       "    <tr>\n",
       "      <th>No</th>\n",
       "      <td>5</td>\n",
       "      <td>5</td>\n",
       "    </tr>\n",
       "    <tr>\n",
       "      <th>Yes</th>\n",
       "      <td>1</td>\n",
       "      <td>19</td>\n",
       "    </tr>\n",
       "  </tbody>\n",
       "</table>\n",
       "</div>"
      ],
      "text/plain": [
       "Purchase  No  Yes\n",
       "Discount         \n",
       "No         5    5\n",
       "Yes        1   19"
      ]
     },
     "execution_count": 27,
     "metadata": {},
     "output_type": "execute_result"
    }
   ],
   "source": [
    "pd.crosstab(data['Discount'], data['Purchase'])"
   ]
  },
  {
   "cell_type": "code",
   "execution_count": 28,
   "id": "a28c1f24",
   "metadata": {},
   "outputs": [],
   "source": [
    "PNoDiscountNo = 5/6\n",
    "PYesDiscountNo = 1/6\n",
    "\n",
    "PNoDiscountYes = 5/24\n",
    "PYesDiscountYes = 19/24\n",
    "\n",
    "PNoDiscount = 10/30\n",
    "PYesDiscount = 20/30"
   ]
  },
  {
   "cell_type": "code",
   "execution_count": 29,
   "id": "e690ce97",
   "metadata": {},
   "outputs": [
    {
     "data": {
      "text/html": [
       "<div>\n",
       "<style scoped>\n",
       "    .dataframe tbody tr th:only-of-type {\n",
       "        vertical-align: middle;\n",
       "    }\n",
       "\n",
       "    .dataframe tbody tr th {\n",
       "        vertical-align: top;\n",
       "    }\n",
       "\n",
       "    .dataframe thead th {\n",
       "        text-align: right;\n",
       "    }\n",
       "</style>\n",
       "<table border=\"1\" class=\"dataframe\">\n",
       "  <thead>\n",
       "    <tr style=\"text-align: right;\">\n",
       "      <th>Purchase</th>\n",
       "      <th>No</th>\n",
       "      <th>Yes</th>\n",
       "    </tr>\n",
       "    <tr>\n",
       "      <th>Free Delivery</th>\n",
       "      <th></th>\n",
       "      <th></th>\n",
       "    </tr>\n",
       "  </thead>\n",
       "  <tbody>\n",
       "    <tr>\n",
       "      <th>No</th>\n",
       "      <td>4</td>\n",
       "      <td>3</td>\n",
       "    </tr>\n",
       "    <tr>\n",
       "      <th>Yes</th>\n",
       "      <td>2</td>\n",
       "      <td>21</td>\n",
       "    </tr>\n",
       "  </tbody>\n",
       "</table>\n",
       "</div>"
      ],
      "text/plain": [
       "Purchase       No  Yes\n",
       "Free Delivery         \n",
       "No              4    3\n",
       "Yes             2   21"
      ]
     },
     "execution_count": 29,
     "metadata": {},
     "output_type": "execute_result"
    }
   ],
   "source": [
    "pd.crosstab(data['Free Delivery'], data['Purchase'])"
   ]
  },
  {
   "cell_type": "code",
   "execution_count": 30,
   "id": "b585bce4",
   "metadata": {},
   "outputs": [],
   "source": [
    "PNoDeliveryNo = 4/6\n",
    "PYesDeliveryNo = 2/6\n",
    "\n",
    "PNoDeliveryYes = 3/24\n",
    "PYesDeliveryYes = 21/24\n",
    "\n",
    "PNoDelivery = 7/30\n",
    "PYesDelivery = 23/30"
   ]
  },
  {
   "cell_type": "code",
   "execution_count": 33,
   "id": "963679dd",
   "metadata": {},
   "outputs": [
    {
     "name": "stdout",
     "output_type": "stream",
     "text": [
      "0.029644268774703563\n"
     ]
    }
   ],
   "source": [
    "PNoBuy1 = ((PHolidayNo*PYesDiscountNo*PYesDeliveryNo)*pNo)/(PHoliday*PYesDiscount*PYesDelivery)\n",
    "print(PNoBuy1)"
   ]
  },
  {
   "cell_type": "code",
   "execution_count": 39,
   "id": "a12f1409",
   "metadata": {},
   "outputs": [
    {
     "name": "stdout",
     "output_type": "stream",
     "text": [
      "0.9856719367588933\n"
     ]
    }
   ],
   "source": [
    "PBuy2 = ((PHolidayYes*PYesDiscountYes*PYesDeliveryYes)*pYes)/(PHoliday*PYesDiscount*PYesDelivery)\n",
    "print(PBuy2)"
   ]
  },
  {
   "cell_type": "code",
   "execution_count": 40,
   "id": "9c6400f9",
   "metadata": {},
   "outputs": [
    {
     "name": "stdout",
     "output_type": "stream",
     "text": [
      "1.015316205533597\n"
     ]
    }
   ],
   "source": [
    "PSum = PNoBuy1+PBuy2\n",
    "print(PSum)"
   ]
  },
  {
   "cell_type": "code",
   "execution_count": 41,
   "id": "c6c49459",
   "metadata": {},
   "outputs": [
    {
     "name": "stdout",
     "output_type": "stream",
     "text": [
      "97.08029197080292\n"
     ]
    }
   ],
   "source": [
    "PBuy = (PBuy2/PSum)*100\n",
    "print(PBuy)"
   ]
  },
  {
   "cell_type": "code",
   "execution_count": 42,
   "id": "2d6004ab",
   "metadata": {},
   "outputs": [
    {
     "name": "stdout",
     "output_type": "stream",
     "text": [
      "3.009830648815011\n"
     ]
    }
   ],
   "source": [
    "PNoBuy = (PNoBuy1*PSum)*100\n",
    "print(PNoBuy)"
   ]
  },
  {
   "cell_type": "code",
   "execution_count": 43,
   "id": "dd85d5cc",
   "metadata": {},
   "outputs": [
    {
     "name": "stdout",
     "output_type": "stream",
     "text": [
      "1.108880928853755\n"
     ]
    }
   ],
   "source": [
    "PBuyA = ((PWeekdayYes*PYesDiscountYes*PYesDeliveryYes)*pYes)/(PWeekday*PYesDiscount*PYesDelivery)\n",
    "print(PBuyA)"
   ]
  },
  {
   "cell_type": "code",
   "execution_count": 44,
   "id": "41d0b424",
   "metadata": {},
   "outputs": [
    {
     "name": "stdout",
     "output_type": "stream",
     "text": [
      "0.5844155844155845\n"
     ]
    }
   ],
   "source": [
    "PBuyB = ((PWeekdayYes*PYesDiscountNo*PYesDeliveryNo)*pYes)/(PWeekday*PNoDiscount*PNoDelivery)\n",
    "print(PBuyB)"
   ]
  },
  {
   "cell_type": "code",
   "execution_count": 45,
   "id": "ea819498",
   "metadata": {},
   "outputs": [
    {
     "name": "stdout",
     "output_type": "stream",
     "text": [
      "0.019762845849802375\n"
     ]
    }
   ],
   "source": [
    "PBuyC = ((PWeekdayNo*PYesDiscountNo*PYesDeliveryNo)*pNo)/(PWeekday*PYesDiscount*PYesDelivery)\n",
    "print(PBuyC)"
   ]
  },
  {
   "cell_type": "code",
   "execution_count": 47,
   "id": "ed2bfcd1",
   "metadata": {},
   "outputs": [
    {
     "name": "stdout",
     "output_type": "stream",
     "text": [
      "1.2987012987012987\n"
     ]
    }
   ],
   "source": [
    "PBuyD = ((PWeekdayNo*PNoDiscountNo*PNoDeliveryNo)*pNo)/(PWeekday*PNoDiscount*PNoDelivery)\n",
    "print(PBuyD)"
   ]
  },
  {
   "cell_type": "code",
   "execution_count": 48,
   "id": "b706241a",
   "metadata": {},
   "outputs": [
    {
     "name": "stdout",
     "output_type": "stream",
     "text": [
      "1.185886548913044\n"
     ]
    }
   ],
   "source": [
    "PBuyE = ((PWeekendYes*PYesDiscountYes*PYesDeliveryYes)*pYes)/(PWeekend*PYesDiscount*PYesDelivery)\n",
    "print(PBuyE)"
   ]
  },
  {
   "cell_type": "code",
   "execution_count": 49,
   "id": "7ead319e",
   "metadata": {},
   "outputs": [
    {
     "name": "stdout",
     "output_type": "stream",
     "text": [
      "0.29296875000000006\n"
     ]
    }
   ],
   "source": [
    "PBuyF = ((PWeekendYes*PNoDiscountYes*PNoDeliveryYes)*pYes)/(PWeekend*PNoDiscount*PNoDelivery)\n",
    "print(PBuyF)"
   ]
  },
  {
   "cell_type": "code",
   "execution_count": 50,
   "id": "0d9099e7",
   "metadata": {},
   "outputs": [
    {
     "name": "stdout",
     "output_type": "stream",
     "text": [
      "0.013586956521739134\n"
     ]
    }
   ],
   "source": [
    "PBuyG = ((PWeekendNo*PYesDiscountNo*PYesDeliveryNo)*pNo)/(PWeekend*PYesDiscount*PYesDelivery)\n",
    "print(PBuyG)"
   ]
  },
  {
   "cell_type": "code",
   "execution_count": 51,
   "id": "9f9c320e",
   "metadata": {},
   "outputs": [
    {
     "name": "stdout",
     "output_type": "stream",
     "text": [
      "1.7857142857142856\n"
     ]
    }
   ],
   "source": [
    "PBuyH = ((PWeekdayNo*PNoDiscountNo*PNoDeliveryNo)*pNo)/(PWeekend*PNoDiscount*PNoDelivery)\n",
    "print(PBuyH)"
   ]
  },
  {
   "cell_type": "code",
   "execution_count": null,
   "id": "6d1bc248",
   "metadata": {},
   "outputs": [],
   "source": []
  }
 ],
 "metadata": {
  "kernelspec": {
   "display_name": "Python 3",
   "language": "python",
   "name": "python3"
  },
  "language_info": {
   "codemirror_mode": {
    "name": "ipython",
    "version": 3
   },
   "file_extension": ".py",
   "mimetype": "text/x-python",
   "name": "python",
   "nbconvert_exporter": "python",
   "pygments_lexer": "ipython3",
   "version": "3.8.8"
  }
 },
 "nbformat": 4,
 "nbformat_minor": 5
}
